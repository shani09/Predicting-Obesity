{
 "cells": [
  {
   "cell_type": "markdown",
   "id": "219a60af",
   "metadata": {},
   "source": [
    "## Defining the data mining goal\n",
    "The goal of this project is to predict the level of obesity of a patient based on various data on the patient, instead of using the BMI which uses weight and height."
   ]
  },
  {
   "cell_type": "code",
   "execution_count": 1,
   "id": "ca6876eb",
   "metadata": {},
   "outputs": [],
   "source": [
    "import warnings\n",
    "warnings.simplefilter(action='ignore', category=FutureWarning)\n",
    "\n",
    "import pandas as pd\n",
    "import numpy as np\n",
    "import sklearn as sk\n",
    "from sklearn.model_selection import train_test_split\n",
    "from sklearn.preprocessing import OneHotEncoder\n",
    "from sklearn.compose import make_column_transformer\n",
    "from sklearn import tree\n",
    "from scipy import stats\n",
    "\n",
    "from sklearn.neighbors import KNeighborsClassifier\n",
    "from sklearn.preprocessing import MinMaxScaler\n",
    "\n",
    "import matplotlib.pyplot as plt\n",
    "from sklearn.tree import plot_tree\n",
    "\n",
    "from sklearn import metrics\n",
    "from sklearn.metrics import classification_report, confusion_matrix\n",
    "\n",
    "from IPython.display import display, Latex"
   ]
  },
  {
   "cell_type": "code",
   "execution_count": 2,
   "id": "5dfc802f",
   "metadata": {},
   "outputs": [
    {
     "data": {
      "text/html": [
       "<div>\n",
       "<style scoped>\n",
       "    .dataframe tbody tr th:only-of-type {\n",
       "        vertical-align: middle;\n",
       "    }\n",
       "\n",
       "    .dataframe tbody tr th {\n",
       "        vertical-align: top;\n",
       "    }\n",
       "\n",
       "    .dataframe thead th {\n",
       "        text-align: right;\n",
       "    }\n",
       "</style>\n",
       "<table border=\"1\" class=\"dataframe\">\n",
       "  <thead>\n",
       "    <tr style=\"text-align: right;\">\n",
       "      <th></th>\n",
       "      <th>Gender</th>\n",
       "      <th>Age</th>\n",
       "      <th>Height</th>\n",
       "      <th>Weight</th>\n",
       "      <th>family_history_with_overweight</th>\n",
       "      <th>FAVC</th>\n",
       "      <th>FCVC</th>\n",
       "      <th>NCP</th>\n",
       "      <th>CAEC</th>\n",
       "      <th>SMOKE</th>\n",
       "      <th>CH2O</th>\n",
       "      <th>SCC</th>\n",
       "      <th>FAF</th>\n",
       "      <th>TUE</th>\n",
       "      <th>CALC</th>\n",
       "      <th>MTRANS</th>\n",
       "      <th>NObeyesdad</th>\n",
       "    </tr>\n",
       "  </thead>\n",
       "  <tbody>\n",
       "    <tr>\n",
       "      <th>0</th>\n",
       "      <td>Female</td>\n",
       "      <td>21.0</td>\n",
       "      <td>1.62</td>\n",
       "      <td>64.0</td>\n",
       "      <td>yes</td>\n",
       "      <td>no</td>\n",
       "      <td>2.0</td>\n",
       "      <td>3.0</td>\n",
       "      <td>Sometimes</td>\n",
       "      <td>no</td>\n",
       "      <td>2.0</td>\n",
       "      <td>no</td>\n",
       "      <td>0.0</td>\n",
       "      <td>1.0</td>\n",
       "      <td>no</td>\n",
       "      <td>Public_Transportation</td>\n",
       "      <td>Normal_Weight</td>\n",
       "    </tr>\n",
       "    <tr>\n",
       "      <th>1</th>\n",
       "      <td>Female</td>\n",
       "      <td>21.0</td>\n",
       "      <td>1.52</td>\n",
       "      <td>56.0</td>\n",
       "      <td>yes</td>\n",
       "      <td>no</td>\n",
       "      <td>3.0</td>\n",
       "      <td>3.0</td>\n",
       "      <td>Sometimes</td>\n",
       "      <td>yes</td>\n",
       "      <td>3.0</td>\n",
       "      <td>yes</td>\n",
       "      <td>3.0</td>\n",
       "      <td>0.0</td>\n",
       "      <td>Sometimes</td>\n",
       "      <td>Public_Transportation</td>\n",
       "      <td>Normal_Weight</td>\n",
       "    </tr>\n",
       "    <tr>\n",
       "      <th>2</th>\n",
       "      <td>Male</td>\n",
       "      <td>23.0</td>\n",
       "      <td>1.80</td>\n",
       "      <td>77.0</td>\n",
       "      <td>yes</td>\n",
       "      <td>no</td>\n",
       "      <td>2.0</td>\n",
       "      <td>3.0</td>\n",
       "      <td>Sometimes</td>\n",
       "      <td>no</td>\n",
       "      <td>2.0</td>\n",
       "      <td>no</td>\n",
       "      <td>2.0</td>\n",
       "      <td>1.0</td>\n",
       "      <td>Frequently</td>\n",
       "      <td>Public_Transportation</td>\n",
       "      <td>Normal_Weight</td>\n",
       "    </tr>\n",
       "    <tr>\n",
       "      <th>3</th>\n",
       "      <td>Male</td>\n",
       "      <td>27.0</td>\n",
       "      <td>1.80</td>\n",
       "      <td>87.0</td>\n",
       "      <td>no</td>\n",
       "      <td>no</td>\n",
       "      <td>3.0</td>\n",
       "      <td>3.0</td>\n",
       "      <td>Sometimes</td>\n",
       "      <td>no</td>\n",
       "      <td>2.0</td>\n",
       "      <td>no</td>\n",
       "      <td>2.0</td>\n",
       "      <td>0.0</td>\n",
       "      <td>Frequently</td>\n",
       "      <td>Walking</td>\n",
       "      <td>Overweight_Level_I</td>\n",
       "    </tr>\n",
       "    <tr>\n",
       "      <th>4</th>\n",
       "      <td>Male</td>\n",
       "      <td>22.0</td>\n",
       "      <td>1.78</td>\n",
       "      <td>89.8</td>\n",
       "      <td>no</td>\n",
       "      <td>no</td>\n",
       "      <td>2.0</td>\n",
       "      <td>1.0</td>\n",
       "      <td>Sometimes</td>\n",
       "      <td>no</td>\n",
       "      <td>2.0</td>\n",
       "      <td>no</td>\n",
       "      <td>0.0</td>\n",
       "      <td>0.0</td>\n",
       "      <td>Sometimes</td>\n",
       "      <td>Public_Transportation</td>\n",
       "      <td>Overweight_Level_II</td>\n",
       "    </tr>\n",
       "  </tbody>\n",
       "</table>\n",
       "</div>"
      ],
      "text/plain": [
       "   Gender   Age  Height  Weight family_history_with_overweight FAVC  FCVC  \\\n",
       "0  Female  21.0    1.62    64.0                            yes   no   2.0   \n",
       "1  Female  21.0    1.52    56.0                            yes   no   3.0   \n",
       "2    Male  23.0    1.80    77.0                            yes   no   2.0   \n",
       "3    Male  27.0    1.80    87.0                             no   no   3.0   \n",
       "4    Male  22.0    1.78    89.8                             no   no   2.0   \n",
       "\n",
       "   NCP       CAEC SMOKE  CH2O  SCC  FAF  TUE        CALC  \\\n",
       "0  3.0  Sometimes    no   2.0   no  0.0  1.0          no   \n",
       "1  3.0  Sometimes   yes   3.0  yes  3.0  0.0   Sometimes   \n",
       "2  3.0  Sometimes    no   2.0   no  2.0  1.0  Frequently   \n",
       "3  3.0  Sometimes    no   2.0   no  2.0  0.0  Frequently   \n",
       "4  1.0  Sometimes    no   2.0   no  0.0  0.0   Sometimes   \n",
       "\n",
       "                  MTRANS           NObeyesdad  \n",
       "0  Public_Transportation        Normal_Weight  \n",
       "1  Public_Transportation        Normal_Weight  \n",
       "2  Public_Transportation        Normal_Weight  \n",
       "3                Walking   Overweight_Level_I  \n",
       "4  Public_Transportation  Overweight_Level_II  "
      ]
     },
     "execution_count": 2,
     "metadata": {},
     "output_type": "execute_result"
    }
   ],
   "source": [
    "df = pd.read_csv('obesity_training_set_1.csv')\n",
    "df.head()"
   ]
  },
  {
   "cell_type": "markdown",
   "id": "370b1871",
   "metadata": {},
   "source": [
    "## Describing the attributes of the dataset\n",
    "The following table describes the data in the dataset (BEFORE generating data synthetically).\\\n",
    "Based on the data article 'https://www.sciencedirect.com/science/article/pii/S2352340919306985?via%3Dihub#bib1', there are no null or missing values in the dataset."
   ]
  },
  {
   "cell_type": "markdown",
   "id": "4fd307fb",
   "metadata": {},
   "source": [
    "| Attribute | Description | Type | Range or Values | Mean, Standard deviation |\n",
    "|:---:|:---:|:---:|:---:|:---:|\n",
    "| Gender | -- | categoric | male, female | -- |\n",
    "| Age | -- | numeric | 14-61 | 24.3, 6.4 |\n",
    "| Height | -- | numeric (meters) | 1.45-1.98 | 1.7, 0.1 |\n",
    "| Weight | -- | numeric (kilograms) | 39-173 | 86.6, 26.2 |\n",
    "| FHO | Whether or not a family member suffered or suffers from overweight | categoric | Yes, No | -- |\n",
    "| FAVC | Frequent consumption of high caloric food | categoric | Yes, No | -- |\n",
    "| FCVC | Frequency of consumption of vegetables | categoric | Never, Sometimes, Always | -- |\n",
    "| NCP | Number of main meals | categoric | Between 1 and 2, Three, More than three | -- |\n",
    "| CAEC | Consumption of food between meals | categoric | No, Sometimes, Frequently, Always | -- |\n",
    "| SMOKE | Whether or not the person smokes | categoric | Yes, No | -- |\n",
    "| CH2O | Consumption of water daily  | categoric | Less than a liter, Between 1 and 2 L, More than 2 L | -- |\n",
    "| SCC | Calories consumption monitoring | categoric | Yes, No | -- |\n",
    "| FAF | Physical activity frequency | categoric | I do not have, 1 or 2 days, 2 or 4 days, 4 or 5 days | -- |\n",
    "| TUE | Time using technology devices | categoric | 0–2 hours, 3-5 hours, More than 5 hours | -- |\n",
    "| CALC | Consumption of alcohol | categoric | I do not drink, Sometimes, Frequently, Always | -- |\n",
    "| MTRANS | Transportation used | categoric | Automobile, Motorbike, Bike, Public Transportation, Walking | -- |\n",
    "| NObeyesdad | Obesity Level | categoric | Insufficient Weight, Normal Weight, Overweight Level I, Overweight Level II, Obesity Type I, Obesity Type II and Obesity Type III | -- |"
   ]
  },
  {
   "cell_type": "code",
   "execution_count": 3,
   "id": "9b6c6377",
   "metadata": {},
   "outputs": [
    {
     "data": {
      "text/html": [
       "<div>\n",
       "<style scoped>\n",
       "    .dataframe tbody tr th:only-of-type {\n",
       "        vertical-align: middle;\n",
       "    }\n",
       "\n",
       "    .dataframe tbody tr th {\n",
       "        vertical-align: top;\n",
       "    }\n",
       "\n",
       "    .dataframe thead th {\n",
       "        text-align: right;\n",
       "    }\n",
       "</style>\n",
       "<table border=\"1\" class=\"dataframe\">\n",
       "  <thead>\n",
       "    <tr style=\"text-align: right;\">\n",
       "      <th></th>\n",
       "      <th>Age</th>\n",
       "      <th>Height</th>\n",
       "      <th>Weight</th>\n",
       "    </tr>\n",
       "  </thead>\n",
       "  <tbody>\n",
       "    <tr>\n",
       "      <th>count</th>\n",
       "      <td>2111.000000</td>\n",
       "      <td>2111.000000</td>\n",
       "      <td>2111.000000</td>\n",
       "    </tr>\n",
       "    <tr>\n",
       "      <th>mean</th>\n",
       "      <td>24.312600</td>\n",
       "      <td>1.701677</td>\n",
       "      <td>86.586058</td>\n",
       "    </tr>\n",
       "    <tr>\n",
       "      <th>std</th>\n",
       "      <td>6.345968</td>\n",
       "      <td>0.093305</td>\n",
       "      <td>26.191172</td>\n",
       "    </tr>\n",
       "    <tr>\n",
       "      <th>min</th>\n",
       "      <td>14.000000</td>\n",
       "      <td>1.450000</td>\n",
       "      <td>39.000000</td>\n",
       "    </tr>\n",
       "    <tr>\n",
       "      <th>25%</th>\n",
       "      <td>19.947192</td>\n",
       "      <td>1.630000</td>\n",
       "      <td>65.473343</td>\n",
       "    </tr>\n",
       "    <tr>\n",
       "      <th>50%</th>\n",
       "      <td>22.777890</td>\n",
       "      <td>1.700499</td>\n",
       "      <td>83.000000</td>\n",
       "    </tr>\n",
       "    <tr>\n",
       "      <th>75%</th>\n",
       "      <td>26.000000</td>\n",
       "      <td>1.768464</td>\n",
       "      <td>107.430682</td>\n",
       "    </tr>\n",
       "    <tr>\n",
       "      <th>max</th>\n",
       "      <td>61.000000</td>\n",
       "      <td>1.980000</td>\n",
       "      <td>173.000000</td>\n",
       "    </tr>\n",
       "  </tbody>\n",
       "</table>\n",
       "</div>"
      ],
      "text/plain": [
       "               Age       Height       Weight\n",
       "count  2111.000000  2111.000000  2111.000000\n",
       "mean     24.312600     1.701677    86.586058\n",
       "std       6.345968     0.093305    26.191172\n",
       "min      14.000000     1.450000    39.000000\n",
       "25%      19.947192     1.630000    65.473343\n",
       "50%      22.777890     1.700499    83.000000\n",
       "75%      26.000000     1.768464   107.430682\n",
       "max      61.000000     1.980000   173.000000"
      ]
     },
     "execution_count": 3,
     "metadata": {},
     "output_type": "execute_result"
    }
   ],
   "source": [
    "# to find the range, mean, and standard deviation\n",
    "df[['Age', 'Height', 'Weight']].describe()"
   ]
  },
  {
   "cell_type": "markdown",
   "id": "82f9f0e5",
   "metadata": {},
   "source": [
    "Note: after the synthetic data was generated, new values (that were not included in the original data) were added to some of the discrete valued attributes (FCVC, NCP, CH2O, FAF, TUE).\\\n",
    "For example:"
   ]
  },
  {
   "cell_type": "markdown",
   "id": "2e2bf5f4",
   "metadata": {},
   "source": [
    "Rename the 'family_history_with_overweight' column to 'FHO' so the namings are consistent and compact."
   ]
  },
  {
   "cell_type": "code",
   "execution_count": 4,
   "id": "238d2aca",
   "metadata": {},
   "outputs": [
    {
     "data": {
      "text/html": [
       "<div>\n",
       "<style scoped>\n",
       "    .dataframe tbody tr th:only-of-type {\n",
       "        vertical-align: middle;\n",
       "    }\n",
       "\n",
       "    .dataframe tbody tr th {\n",
       "        vertical-align: top;\n",
       "    }\n",
       "\n",
       "    .dataframe thead th {\n",
       "        text-align: right;\n",
       "    }\n",
       "</style>\n",
       "<table border=\"1\" class=\"dataframe\">\n",
       "  <thead>\n",
       "    <tr style=\"text-align: right;\">\n",
       "      <th></th>\n",
       "      <th>Gender</th>\n",
       "      <th>Age</th>\n",
       "      <th>Height</th>\n",
       "      <th>Weight</th>\n",
       "      <th>FHO</th>\n",
       "      <th>FAVC</th>\n",
       "      <th>FCVC</th>\n",
       "      <th>NCP</th>\n",
       "      <th>CAEC</th>\n",
       "      <th>SMOKE</th>\n",
       "      <th>CH2O</th>\n",
       "      <th>SCC</th>\n",
       "      <th>FAF</th>\n",
       "      <th>TUE</th>\n",
       "      <th>CALC</th>\n",
       "      <th>MTRANS</th>\n",
       "      <th>NObeyesdad</th>\n",
       "    </tr>\n",
       "  </thead>\n",
       "  <tbody>\n",
       "    <tr>\n",
       "      <th>1416</th>\n",
       "      <td>Male</td>\n",
       "      <td>23.479181</td>\n",
       "      <td>1.680171</td>\n",
       "      <td>91.068054</td>\n",
       "      <td>yes</td>\n",
       "      <td>yes</td>\n",
       "      <td>1.220024</td>\n",
       "      <td>3.000000</td>\n",
       "      <td>Sometimes</td>\n",
       "      <td>no</td>\n",
       "      <td>1.046254</td>\n",
       "      <td>no</td>\n",
       "      <td>0.520989</td>\n",
       "      <td>0.61599</td>\n",
       "      <td>no</td>\n",
       "      <td>Automobile</td>\n",
       "      <td>Obesity_Type_I</td>\n",
       "    </tr>\n",
       "    <tr>\n",
       "      <th>199</th>\n",
       "      <td>Female</td>\n",
       "      <td>23.000000</td>\n",
       "      <td>1.660000</td>\n",
       "      <td>60.000000</td>\n",
       "      <td>yes</td>\n",
       "      <td>yes</td>\n",
       "      <td>2.000000</td>\n",
       "      <td>1.000000</td>\n",
       "      <td>Sometimes</td>\n",
       "      <td>no</td>\n",
       "      <td>1.000000</td>\n",
       "      <td>no</td>\n",
       "      <td>1.000000</td>\n",
       "      <td>1.00000</td>\n",
       "      <td>Sometimes</td>\n",
       "      <td>Public_Transportation</td>\n",
       "      <td>Normal_Weight</td>\n",
       "    </tr>\n",
       "    <tr>\n",
       "      <th>1324</th>\n",
       "      <td>Female</td>\n",
       "      <td>22.480889</td>\n",
       "      <td>1.605662</td>\n",
       "      <td>82.470375</td>\n",
       "      <td>yes</td>\n",
       "      <td>yes</td>\n",
       "      <td>1.557287</td>\n",
       "      <td>1.000000</td>\n",
       "      <td>Sometimes</td>\n",
       "      <td>no</td>\n",
       "      <td>2.371015</td>\n",
       "      <td>no</td>\n",
       "      <td>0.288032</td>\n",
       "      <td>2.00000</td>\n",
       "      <td>Sometimes</td>\n",
       "      <td>Public_Transportation</td>\n",
       "      <td>Obesity_Type_I</td>\n",
       "    </tr>\n",
       "    <tr>\n",
       "      <th>682</th>\n",
       "      <td>Female</td>\n",
       "      <td>19.007177</td>\n",
       "      <td>1.690727</td>\n",
       "      <td>49.895716</td>\n",
       "      <td>no</td>\n",
       "      <td>yes</td>\n",
       "      <td>1.212908</td>\n",
       "      <td>3.207071</td>\n",
       "      <td>Sometimes</td>\n",
       "      <td>no</td>\n",
       "      <td>1.029703</td>\n",
       "      <td>no</td>\n",
       "      <td>2.000000</td>\n",
       "      <td>1.00000</td>\n",
       "      <td>Sometimes</td>\n",
       "      <td>Public_Transportation</td>\n",
       "      <td>Insufficient_Weight</td>\n",
       "    </tr>\n",
       "    <tr>\n",
       "      <th>332</th>\n",
       "      <td>Male</td>\n",
       "      <td>27.000000</td>\n",
       "      <td>1.850000</td>\n",
       "      <td>75.000000</td>\n",
       "      <td>yes</td>\n",
       "      <td>yes</td>\n",
       "      <td>2.000000</td>\n",
       "      <td>1.000000</td>\n",
       "      <td>Sometimes</td>\n",
       "      <td>no</td>\n",
       "      <td>2.000000</td>\n",
       "      <td>no</td>\n",
       "      <td>1.000000</td>\n",
       "      <td>0.00000</td>\n",
       "      <td>no</td>\n",
       "      <td>Walking</td>\n",
       "      <td>Normal_Weight</td>\n",
       "    </tr>\n",
       "  </tbody>\n",
       "</table>\n",
       "</div>"
      ],
      "text/plain": [
       "      Gender        Age    Height     Weight  FHO FAVC      FCVC       NCP  \\\n",
       "1416    Male  23.479181  1.680171  91.068054  yes  yes  1.220024  3.000000   \n",
       "199   Female  23.000000  1.660000  60.000000  yes  yes  2.000000  1.000000   \n",
       "1324  Female  22.480889  1.605662  82.470375  yes  yes  1.557287  1.000000   \n",
       "682   Female  19.007177  1.690727  49.895716   no  yes  1.212908  3.207071   \n",
       "332     Male  27.000000  1.850000  75.000000  yes  yes  2.000000  1.000000   \n",
       "\n",
       "           CAEC SMOKE      CH2O SCC       FAF      TUE       CALC  \\\n",
       "1416  Sometimes    no  1.046254  no  0.520989  0.61599         no   \n",
       "199   Sometimes    no  1.000000  no  1.000000  1.00000  Sometimes   \n",
       "1324  Sometimes    no  2.371015  no  0.288032  2.00000  Sometimes   \n",
       "682   Sometimes    no  1.029703  no  2.000000  1.00000  Sometimes   \n",
       "332   Sometimes    no  2.000000  no  1.000000  0.00000         no   \n",
       "\n",
       "                     MTRANS           NObeyesdad  \n",
       "1416             Automobile       Obesity_Type_I  \n",
       "199   Public_Transportation        Normal_Weight  \n",
       "1324  Public_Transportation       Obesity_Type_I  \n",
       "682   Public_Transportation  Insufficient_Weight  \n",
       "332                 Walking        Normal_Weight  "
      ]
     },
     "execution_count": 4,
     "metadata": {},
     "output_type": "execute_result"
    }
   ],
   "source": [
    "df.rename(columns = {'family_history_with_overweight':'FHO'}, inplace = True)\n",
    "\n",
    "df.sample(5, random_state=32)"
   ]
  },
  {
   "cell_type": "code",
   "execution_count": 5,
   "id": "290cf5aa",
   "metadata": {},
   "outputs": [
    {
     "data": {
      "text/plain": [
       "Gender        0\n",
       "Age           0\n",
       "Height        0\n",
       "Weight        0\n",
       "FHO           0\n",
       "FAVC          0\n",
       "FCVC          0\n",
       "NCP           0\n",
       "CAEC          0\n",
       "SMOKE         0\n",
       "CH2O          0\n",
       "SCC           0\n",
       "FAF           0\n",
       "TUE           0\n",
       "CALC          0\n",
       "MTRANS        0\n",
       "NObeyesdad    0\n",
       "dtype: int64"
      ]
     },
     "execution_count": 5,
     "metadata": {},
     "output_type": "execute_result"
    }
   ],
   "source": [
    "# double checking there are no empty or null cells \n",
    "df.isnull().sum()"
   ]
  },
  {
   "cell_type": "markdown",
   "id": "cceb8f12",
   "metadata": {},
   "source": [
    "## The KDD (Knowledge Discovery in Databases) proccess"
   ]
  },
  {
   "cell_type": "markdown",
   "id": "8cece86a",
   "metadata": {},
   "source": [
    "*1. Setting a goal*\\\n",
    "\\\n",
    "The goal of this project is to predict the level of obesity of a patient based on various data on the patient, instead of using the BMI which uses weight and height.\n",
    "\\\n",
    "\\\n",
    "*2. Data selection, integration, and storage*\\\n",
    "\\\n",
    "This step of the process was already partly done and describd in the article (linked in question 1.b). The dataset was saved from the following website:\\\n",
    "'https://www.kaggle.com/code/mpwolke/obesity-levels-life-style/data' as a CVS file.\\\n",
    "\\\n",
    "*3. Data cleaning and preprocessing*\\\n",
    "\\\n",
    "As mentioned above, there are no null or missing values in the dataset.\\\n",
    "I will remove outliers and check for duplicate data. In addition, I will change the values 'no' to 'Never' in the attibutes CALC and CAEC in order to make the data more understandable.\\\n",
    "Since the Weight and Height attributtes are used to calculate the BMI which is used to determinite the target attribute Obesity_Level, I will remove them.\\\n",
    "\\\n",
    "*4. Data transformation*\\\n",
    "\\\n",
    "First, I will transform the values of the relevant attributes back to integers.\\\n",
    "In addition, since data mining algorithms work with numerical values and not with caterorical values, I will encode the categorical attributes.\\\n",
    "No discretization was needed in the project because the algorithms in scikit-learn are able to handle continuous numerical data.\\\n",
    "\\\n",
    "*5. Data mining*\\\n",
    "\\\n",
    "In order to do the data mining I used Python and the mainly the pandas and scikit-learn libraries. As for this project, I manually tested various parameters to see which give me the best results.\\\n",
    "\\\n",
    "*6. Evaluation and interpretation of the results*\\\n",
    "\\\n",
    "For this step I used Python and the confusion matrix, again from the scikit-learn library.\\\n",
    "\\\n",
    "*7. Consolidating discovered knowledge*\\\n",
    "\\\n",
    "This step involves visualization of knowledge such as generating tables, reports, graphs or rules for decision making."
   ]
  },
  {
   "cell_type": "markdown",
   "id": "477283fe",
   "metadata": {},
   "source": [
    "## Possible data mining methods"
   ]
  },
  {
   "cell_type": "markdown",
   "id": "ac66a403",
   "metadata": {},
   "source": [
    "**- Linear regression**\\\n",
    "This method creates a model that assumes a linear relationship between the target attribute and the rest of the attributes. More specifically, a formula is used to predict the value of the target attribute.\\\n",
    "\\\n",
    "*Advantages include:*\n",
    "- performs well if the linear relationship indeed exists.\n",
    "- easy to implement\n",
    "- can extrapolate beyond the data set (for example predict into the future)\n",
    "\n",
    "\n",
    "*Disadvantages include:*\n",
    "\n",
    "- assumes the linear relationship stated earlier\n",
    "- sensitive to outliers\n",
    "- prone to noise and overfitting\n",
    "\n",
    "**- Polynomial regression**\\\n",
    "Similarly to the linear regression model, a formula is used to predict the value of the target attribute. In this method however, a linear relationship is not assumed, and a polynomial relationship is.\\\n",
    "\\\n",
    "*Advantages include:*\n",
    "- can be used to fit non-linear data\n",
    "- easy to implement\n",
    "- can extrapolate beyond the data set (for example predict into the future)\n",
    "\n",
    "*Disadvantages include:*\n",
    "- sensitive to outliers\n",
    "- prone to noise and overfitting\n",
    "\n",
    "**- Decision tree using the CART algorithm**\\\n",
    "This method builds a binary decision tree based on Gini's impurity index as a splitting criterion.\\\n",
    "*Advantages include:*\n",
    "- easy to understand, interpret, and visualize\n",
    "- works with both continuous and discrete values\n",
    "- works with numerical, categorical, or boolean values\n",
    "\n",
    "*Disadvantages include:*\n",
    "- relatively high time complexity to train the model\n",
    "- inadequate for predictiong continuous values\n",
    "- sensitive to new data (new data will likely change the model)\n",
    "\n",
    "**- K nearest neighbors**\\\n",
    "This method finds the k most similar items to the item given (certain data) and returns a prediction based on that. The degree of similarity is determined by a certain distance (often the Eucledian distance)\n",
    "*Advantages include:*\n",
    "- very easy to implement, including for multi-class problems\n",
    "- no training period - uses only real time calculations\n",
    "- new data can be added seamlessly due to the lack of training\n",
    "\n",
    "*Disadvantages include:*\n",
    "- high time complexity with large datasets (calculates the distance to each point in the dataset)\n",
    "- high time complexity with high dimentions (more time is required to calculate the distance)\n",
    "- sensitive to noisy data, missing values, and outliers"
   ]
  },
  {
   "cell_type": "markdown",
   "id": "fc6adcd7",
   "metadata": {},
   "source": [
    "## Data preparation"
   ]
  },
  {
   "cell_type": "markdown",
   "id": "8793274a",
   "metadata": {},
   "source": [
    "### Taking care of outliers\n",
    "In the numerical attributes (age, height, weight) I remove entries where the z-score of that attribute is greater than 3 or less than -3."
   ]
  },
  {
   "cell_type": "code",
   "execution_count": 6,
   "id": "796147af",
   "metadata": {},
   "outputs": [
    {
     "name": "stdout",
     "output_type": "stream",
     "text": [
      "The number of outliers is: 25 out of 2111 entries.\n",
      "\n"
     ]
    }
   ],
   "source": [
    "# numeric attributes df\n",
    "df_numerics = df[['Age', 'Height', 'Weight']]\n",
    "# absolute values of z scores\n",
    "abs_z_scores = np.abs(stats.zscore(df_numerics))\n",
    "abs_z_scores\n",
    "filtered_entries = (abs_z_scores < 3).all(axis=1)\n",
    "num_outliers = filtered_entries[filtered_entries == False].count()\n",
    "print('The number of outliers is:', num_outliers, 'out of', df.shape[0], 'entries.\\n')"
   ]
  },
  {
   "cell_type": "markdown",
   "id": "f2cb1dcb",
   "metadata": {},
   "source": [
    "Since the percentage of outliers is very low and the dataset is fairy large, I discard the outlier entries."
   ]
  },
  {
   "cell_type": "code",
   "execution_count": 7,
   "id": "5192ecc5",
   "metadata": {},
   "outputs": [
    {
     "name": "stdout",
     "output_type": "stream",
     "text": [
      "Now there are 2086 entries.\n"
     ]
    }
   ],
   "source": [
    "df = df[filtered_entries]\n",
    "print('Now there are', df.shape[0], 'entries.')"
   ]
  },
  {
   "cell_type": "markdown",
   "id": "b6ba9662",
   "metadata": {},
   "source": [
    "### Removing duplicate entries"
   ]
  },
  {
   "cell_type": "code",
   "execution_count": 8,
   "id": "d3e37802",
   "metadata": {},
   "outputs": [
    {
     "data": {
      "text/plain": [
       "(2086, 17)"
      ]
     },
     "metadata": {},
     "output_type": "display_data"
    },
    {
     "data": {
      "text/plain": [
       "(2086, 17)"
      ]
     },
     "metadata": {},
     "output_type": "display_data"
    }
   ],
   "source": [
    "display(df.shape)\n",
    "df.duplicated(subset=None, keep='first')\n",
    "display(df.shape)"
   ]
  },
  {
   "cell_type": "markdown",
   "id": "1fd8fd61",
   "metadata": {},
   "source": [
    "Therefore are no duplicate entries."
   ]
  },
  {
   "cell_type": "markdown",
   "id": "53065cc1",
   "metadata": {},
   "source": [
    "### Changing the 'no' values to 'Never' in the 'CALC' and 'CAEC' columns"
   ]
  },
  {
   "cell_type": "code",
   "execution_count": 9,
   "id": "23fc1386",
   "metadata": {},
   "outputs": [
    {
     "data": {
      "text/html": [
       "<div>\n",
       "<style scoped>\n",
       "    .dataframe tbody tr th:only-of-type {\n",
       "        vertical-align: middle;\n",
       "    }\n",
       "\n",
       "    .dataframe tbody tr th {\n",
       "        vertical-align: top;\n",
       "    }\n",
       "\n",
       "    .dataframe thead th {\n",
       "        text-align: right;\n",
       "    }\n",
       "</style>\n",
       "<table border=\"1\" class=\"dataframe\">\n",
       "  <thead>\n",
       "    <tr style=\"text-align: right;\">\n",
       "      <th></th>\n",
       "      <th>CALC</th>\n",
       "      <th>CAEC</th>\n",
       "    </tr>\n",
       "  </thead>\n",
       "  <tbody>\n",
       "    <tr>\n",
       "      <th>239</th>\n",
       "      <td>Never</td>\n",
       "      <td>Never</td>\n",
       "    </tr>\n",
       "    <tr>\n",
       "      <th>234</th>\n",
       "      <td>Never</td>\n",
       "      <td>Never</td>\n",
       "    </tr>\n",
       "    <tr>\n",
       "      <th>76</th>\n",
       "      <td>Never</td>\n",
       "      <td>Never</td>\n",
       "    </tr>\n",
       "  </tbody>\n",
       "</table>\n",
       "</div>"
      ],
      "text/plain": [
       "      CALC   CAEC\n",
       "239  Never  Never\n",
       "234  Never  Never\n",
       "76   Never  Never"
      ]
     },
     "execution_count": 9,
     "metadata": {},
     "output_type": "execute_result"
    }
   ],
   "source": [
    "df.loc[df['CALC'] == 'no', 'CALC'] = 'Never'\n",
    "df.loc[df['CAEC'] == 'no', 'CAEC'] = 'Never'\n",
    "df[['CALC', 'CAEC']].loc[(df['CALC'] == 'Never') & (df['CAEC'] == 'Never')].sample(3)"
   ]
  },
  {
   "cell_type": "markdown",
   "id": "5d88ee68",
   "metadata": {},
   "source": [
    "### Removing the attributes Height and Weight"
   ]
  },
  {
   "cell_type": "markdown",
   "id": "9fdd0f99",
   "metadata": {},
   "source": [
    "Drop Height and Weight because they are used to calculate the Obesity_Level which is the target attribute."
   ]
  },
  {
   "cell_type": "code",
   "execution_count": 10,
   "id": "b5d28d7d",
   "metadata": {},
   "outputs": [],
   "source": [
    "df = df.drop(['Height', 'Weight'], axis=1)"
   ]
  },
  {
   "cell_type": "markdown",
   "id": "ab74ae31",
   "metadata": {},
   "source": [
    "### Rounding numbers to match the values entered in the survey\n",
    "\n",
    "In the attributes FCVC, NCP, CH2O, FAF, TUE there were only a few options to choose from, and after synthetically generating data the attribute became \"continous\". Since this doesn't match the original questions of the survey, I round the values to the nearest integer."
   ]
  },
  {
   "cell_type": "code",
   "execution_count": 11,
   "id": "4765ff9a",
   "metadata": {},
   "outputs": [],
   "source": [
    "df[['FCVC', 'NCP', 'CH2O', 'FAF', 'TUE']] = df[['FCVC', 'NCP', 'CH2O', 'FAF', 'TUE']].round()"
   ]
  },
  {
   "cell_type": "markdown",
   "id": "02f9aa9c",
   "metadata": {},
   "source": [
    "If the above table is analyzed closely, one can see that the NCP (number of meals) attibute should only have 3 options (Between 1-2, Three, More than three), so values 1-3, not 1-4.\\\n",
    "Therefore I change all the values greater than 3 to 3."
   ]
  },
  {
   "cell_type": "code",
   "execution_count": 12,
   "id": "7ab7ab0f",
   "metadata": {},
   "outputs": [
    {
     "name": "stdout",
     "output_type": "stream",
     "text": [
      "NCP    1.0\n",
      "dtype: float64\n",
      "NCP    3.0\n",
      "dtype: float64\n"
     ]
    }
   ],
   "source": [
    "df.loc[df['NCP'] > 3, 'NCP'] = 3\n",
    "print(df[['NCP']].min())\n",
    "print(df[['NCP']].max())\n",
    "# Now the range is 1-3"
   ]
  },
  {
   "cell_type": "markdown",
   "id": "88d7c4ef",
   "metadata": {},
   "source": [
    "Change the values to integers for a cleaner look (1 instead of 1.0)"
   ]
  },
  {
   "cell_type": "code",
   "execution_count": 13,
   "id": "5379169d",
   "metadata": {},
   "outputs": [
    {
     "data": {
      "text/html": [
       "<div>\n",
       "<style scoped>\n",
       "    .dataframe tbody tr th:only-of-type {\n",
       "        vertical-align: middle;\n",
       "    }\n",
       "\n",
       "    .dataframe tbody tr th {\n",
       "        vertical-align: top;\n",
       "    }\n",
       "\n",
       "    .dataframe thead th {\n",
       "        text-align: right;\n",
       "    }\n",
       "</style>\n",
       "<table border=\"1\" class=\"dataframe\">\n",
       "  <thead>\n",
       "    <tr style=\"text-align: right;\">\n",
       "      <th></th>\n",
       "      <th>FCVC</th>\n",
       "      <th>NCP</th>\n",
       "      <th>CH2O</th>\n",
       "      <th>FAF</th>\n",
       "      <th>TUE</th>\n",
       "    </tr>\n",
       "  </thead>\n",
       "  <tbody>\n",
       "    <tr>\n",
       "      <th>0</th>\n",
       "      <td>2</td>\n",
       "      <td>3</td>\n",
       "      <td>2</td>\n",
       "      <td>0</td>\n",
       "      <td>1</td>\n",
       "    </tr>\n",
       "    <tr>\n",
       "      <th>1</th>\n",
       "      <td>3</td>\n",
       "      <td>3</td>\n",
       "      <td>3</td>\n",
       "      <td>3</td>\n",
       "      <td>0</td>\n",
       "    </tr>\n",
       "    <tr>\n",
       "      <th>2</th>\n",
       "      <td>2</td>\n",
       "      <td>3</td>\n",
       "      <td>2</td>\n",
       "      <td>2</td>\n",
       "      <td>1</td>\n",
       "    </tr>\n",
       "    <tr>\n",
       "      <th>3</th>\n",
       "      <td>3</td>\n",
       "      <td>3</td>\n",
       "      <td>2</td>\n",
       "      <td>2</td>\n",
       "      <td>0</td>\n",
       "    </tr>\n",
       "    <tr>\n",
       "      <th>4</th>\n",
       "      <td>2</td>\n",
       "      <td>1</td>\n",
       "      <td>2</td>\n",
       "      <td>0</td>\n",
       "      <td>0</td>\n",
       "    </tr>\n",
       "  </tbody>\n",
       "</table>\n",
       "</div>"
      ],
      "text/plain": [
       "   FCVC  NCP  CH2O  FAF  TUE\n",
       "0     2    3     2    0    1\n",
       "1     3    3     3    3    0\n",
       "2     2    3     2    2    1\n",
       "3     3    3     2    2    0\n",
       "4     2    1     2    0    0"
      ]
     },
     "execution_count": 13,
     "metadata": {},
     "output_type": "execute_result"
    }
   ],
   "source": [
    "for col in ['FCVC', 'NCP', 'CH2O', 'FAF', 'TUE']:\n",
    "    df[[col]] = df[[col]].astype(int)\n",
    "df[['FCVC', 'NCP', 'CH2O', 'FAF', 'TUE']].head()"
   ]
  },
  {
   "cell_type": "markdown",
   "id": "40f9da49",
   "metadata": {},
   "source": [
    "### Visualization of the data"
   ]
  },
  {
   "cell_type": "code",
   "execution_count": 14,
   "id": "68d0c131",
   "metadata": {
    "scrolled": true
   },
   "outputs": [
    {
     "data": {
      "image/png": "[encoded data removed]",
      "text/plain": [
       "<Figure size 2520x2160 with 6 Axes>"
      ]
     },
     "metadata": {
      "needs_background": "light"
     },
     "output_type": "display_data"
    }
   ],
   "source": [
    "figs = df.hist(figsize=(35, 30), grid = False, xlabelsize=20, ylabelsize=20)\n",
    "for fig in figs.ravel():\n",
    "    fig.title.set_size(30)"
   ]
  },
  {
   "cell_type": "markdown",
   "id": "480cbb9f",
   "metadata": {},
   "source": [
    "### Encoding"
   ]
  },
  {
   "cell_type": "markdown",
   "id": "0d648a4a",
   "metadata": {},
   "source": [
    "Encode non-ordinal (nominal) attributes using dummy encoding"
   ]
  },
  {
   "cell_type": "code",
   "execution_count": 15,
   "id": "818e7a6d",
   "metadata": {},
   "outputs": [
    {
     "data": {
      "text/html": [
       "<div>\n",
       "<style scoped>\n",
       "    .dataframe tbody tr th:only-of-type {\n",
       "        vertical-align: middle;\n",
       "    }\n",
       "\n",
       "    .dataframe tbody tr th {\n",
       "        vertical-align: top;\n",
       "    }\n",
       "\n",
       "    .dataframe thead th {\n",
       "        text-align: right;\n",
       "    }\n",
       "</style>\n",
       "<table border=\"1\" class=\"dataframe\">\n",
       "  <thead>\n",
       "    <tr style=\"text-align: right;\">\n",
       "      <th></th>\n",
       "      <th>Gender_Male</th>\n",
       "      <th>FHO_yes</th>\n",
       "      <th>FAVC_yes</th>\n",
       "      <th>SMOKE_yes</th>\n",
       "      <th>SCC_yes</th>\n",
       "      <th>MTRANS_Bike</th>\n",
       "    </tr>\n",
       "  </thead>\n",
       "  <tbody>\n",
       "    <tr>\n",
       "      <th>0</th>\n",
       "      <td>0</td>\n",
       "      <td>1</td>\n",
       "      <td>0</td>\n",
       "      <td>0</td>\n",
       "      <td>0</td>\n",
       "      <td>0</td>\n",
       "    </tr>\n",
       "    <tr>\n",
       "      <th>1</th>\n",
       "      <td>0</td>\n",
       "      <td>1</td>\n",
       "      <td>0</td>\n",
       "      <td>1</td>\n",
       "      <td>1</td>\n",
       "      <td>0</td>\n",
       "    </tr>\n",
       "    <tr>\n",
       "      <th>2</th>\n",
       "      <td>1</td>\n",
       "      <td>1</td>\n",
       "      <td>0</td>\n",
       "      <td>0</td>\n",
       "      <td>0</td>\n",
       "      <td>0</td>\n",
       "    </tr>\n",
       "    <tr>\n",
       "      <th>3</th>\n",
       "      <td>1</td>\n",
       "      <td>0</td>\n",
       "      <td>0</td>\n",
       "      <td>0</td>\n",
       "      <td>0</td>\n",
       "      <td>0</td>\n",
       "    </tr>\n",
       "    <tr>\n",
       "      <th>4</th>\n",
       "      <td>1</td>\n",
       "      <td>0</td>\n",
       "      <td>0</td>\n",
       "      <td>0</td>\n",
       "      <td>0</td>\n",
       "      <td>0</td>\n",
       "    </tr>\n",
       "  </tbody>\n",
       "</table>\n",
       "</div>"
      ],
      "text/plain": [
       "   Gender_Male  FHO_yes  FAVC_yes  SMOKE_yes  SCC_yes  MTRANS_Bike\n",
       "0            0        1         0          0        0            0\n",
       "1            0        1         0          1        1            0\n",
       "2            1        1         0          0        0            0\n",
       "3            1        0         0          0        0            0\n",
       "4            1        0         0          0        0            0"
      ]
     },
     "execution_count": 15,
     "metadata": {},
     "output_type": "execute_result"
    }
   ],
   "source": [
    "columns_encode = ['Gender', 'FHO', 'FAVC', 'SMOKE', 'SCC', 'MTRANS']\n",
    "df = pd.get_dummies(df, columns=columns_encode, drop_first=True)\n",
    "\n",
    "columns_display = [c for att in columns_encode for c in df.columns if att in c]\n",
    "df[columns_display[:6]].head()"
   ]
  },
  {
   "cell_type": "markdown",
   "id": "4543a46e",
   "metadata": {},
   "source": [
    "Encode ordinal attributes (CALC and CAEC).\n",
    "Both these attributes have possible values of 'Never', 'Sometimes', 'Frequently', 'Always'."
   ]
  },
  {
   "cell_type": "code",
   "execution_count": 16,
   "id": "53dc14d9",
   "metadata": {},
   "outputs": [],
   "source": [
    "CALC_CAEC_map = {'Never': 0, 'Sometimes': 1, 'Frequently': 2, 'Always': 3}\n",
    "df['CALC_scale'] = df['CALC'].replace(CALC_CAEC_map)\n",
    "df['CAEC_scale'] = df['CALC'].replace(CALC_CAEC_map)\n",
    "df = df.drop(['CALC', 'CAEC'], axis=1)"
   ]
  },
  {
   "cell_type": "markdown",
   "id": "d7970020",
   "metadata": {},
   "source": [
    "Note: MTRANS has more than 2 options and cannot be ordinaly encoded so it will be dropped in the k-nearest neighbors algorithm (because it is based on distances)"
   ]
  },
  {
   "cell_type": "markdown",
   "id": "b9d4033f",
   "metadata": {},
   "source": [
    "### The final preprocessed data"
   ]
  },
  {
   "cell_type": "code",
   "execution_count": 17,
   "id": "cffe337c",
   "metadata": {},
   "outputs": [
    {
     "data": {
      "text/html": [
       "<div>\n",
       "<style scoped>\n",
       "    .dataframe tbody tr th:only-of-type {\n",
       "        vertical-align: middle;\n",
       "    }\n",
       "\n",
       "    .dataframe tbody tr th {\n",
       "        vertical-align: top;\n",
       "    }\n",
       "\n",
       "    .dataframe thead th {\n",
       "        text-align: right;\n",
       "    }\n",
       "</style>\n",
       "<table border=\"1\" class=\"dataframe\">\n",
       "  <thead>\n",
       "    <tr style=\"text-align: right;\">\n",
       "      <th></th>\n",
       "      <th>Age</th>\n",
       "      <th>FCVC</th>\n",
       "      <th>NCP</th>\n",
       "      <th>CH2O</th>\n",
       "      <th>FAF</th>\n",
       "      <th>TUE</th>\n",
       "      <th>NObeyesdad</th>\n",
       "      <th>Gender_Male</th>\n",
       "      <th>FHO_yes</th>\n",
       "      <th>FAVC_yes</th>\n",
       "      <th>SMOKE_yes</th>\n",
       "      <th>SCC_yes</th>\n",
       "      <th>MTRANS_Bike</th>\n",
       "      <th>MTRANS_Motorbike</th>\n",
       "      <th>MTRANS_Public_Transportation</th>\n",
       "      <th>MTRANS_Walking</th>\n",
       "      <th>CALC_scale</th>\n",
       "      <th>CAEC_scale</th>\n",
       "    </tr>\n",
       "  </thead>\n",
       "  <tbody>\n",
       "    <tr>\n",
       "      <th>49</th>\n",
       "      <td>21.000000</td>\n",
       "      <td>2</td>\n",
       "      <td>3</td>\n",
       "      <td>2</td>\n",
       "      <td>0</td>\n",
       "      <td>0</td>\n",
       "      <td>Normal_Weight</td>\n",
       "      <td>0</td>\n",
       "      <td>0</td>\n",
       "      <td>1</td>\n",
       "      <td>0</td>\n",
       "      <td>0</td>\n",
       "      <td>0</td>\n",
       "      <td>0</td>\n",
       "      <td>1</td>\n",
       "      <td>0</td>\n",
       "      <td>1</td>\n",
       "      <td>1</td>\n",
       "    </tr>\n",
       "    <tr>\n",
       "      <th>504</th>\n",
       "      <td>26.000000</td>\n",
       "      <td>3</td>\n",
       "      <td>3</td>\n",
       "      <td>2</td>\n",
       "      <td>0</td>\n",
       "      <td>0</td>\n",
       "      <td>Obesity_Type_III</td>\n",
       "      <td>0</td>\n",
       "      <td>1</td>\n",
       "      <td>1</td>\n",
       "      <td>0</td>\n",
       "      <td>0</td>\n",
       "      <td>0</td>\n",
       "      <td>0</td>\n",
       "      <td>1</td>\n",
       "      <td>0</td>\n",
       "      <td>1</td>\n",
       "      <td>1</td>\n",
       "    </tr>\n",
       "    <tr>\n",
       "      <th>1160</th>\n",
       "      <td>21.997335</td>\n",
       "      <td>2</td>\n",
       "      <td>3</td>\n",
       "      <td>2</td>\n",
       "      <td>1</td>\n",
       "      <td>2</td>\n",
       "      <td>Overweight_Level_II</td>\n",
       "      <td>1</td>\n",
       "      <td>1</td>\n",
       "      <td>1</td>\n",
       "      <td>0</td>\n",
       "      <td>0</td>\n",
       "      <td>0</td>\n",
       "      <td>0</td>\n",
       "      <td>1</td>\n",
       "      <td>0</td>\n",
       "      <td>0</td>\n",
       "      <td>0</td>\n",
       "    </tr>\n",
       "    <tr>\n",
       "      <th>1893</th>\n",
       "      <td>22.980221</td>\n",
       "      <td>3</td>\n",
       "      <td>3</td>\n",
       "      <td>2</td>\n",
       "      <td>1</td>\n",
       "      <td>1</td>\n",
       "      <td>Obesity_Type_III</td>\n",
       "      <td>0</td>\n",
       "      <td>1</td>\n",
       "      <td>1</td>\n",
       "      <td>0</td>\n",
       "      <td>0</td>\n",
       "      <td>0</td>\n",
       "      <td>0</td>\n",
       "      <td>1</td>\n",
       "      <td>0</td>\n",
       "      <td>1</td>\n",
       "      <td>1</td>\n",
       "    </tr>\n",
       "    <tr>\n",
       "      <th>1752</th>\n",
       "      <td>27.266287</td>\n",
       "      <td>3</td>\n",
       "      <td>3</td>\n",
       "      <td>3</td>\n",
       "      <td>1</td>\n",
       "      <td>1</td>\n",
       "      <td>Obesity_Type_II</td>\n",
       "      <td>1</td>\n",
       "      <td>1</td>\n",
       "      <td>1</td>\n",
       "      <td>0</td>\n",
       "      <td>0</td>\n",
       "      <td>0</td>\n",
       "      <td>0</td>\n",
       "      <td>1</td>\n",
       "      <td>0</td>\n",
       "      <td>1</td>\n",
       "      <td>1</td>\n",
       "    </tr>\n",
       "    <tr>\n",
       "      <th>1518</th>\n",
       "      <td>30.421596</td>\n",
       "      <td>2</td>\n",
       "      <td>3</td>\n",
       "      <td>2</td>\n",
       "      <td>1</td>\n",
       "      <td>0</td>\n",
       "      <td>Obesity_Type_II</td>\n",
       "      <td>1</td>\n",
       "      <td>1</td>\n",
       "      <td>1</td>\n",
       "      <td>0</td>\n",
       "      <td>0</td>\n",
       "      <td>0</td>\n",
       "      <td>0</td>\n",
       "      <td>1</td>\n",
       "      <td>0</td>\n",
       "      <td>1</td>\n",
       "      <td>1</td>\n",
       "    </tr>\n",
       "    <tr>\n",
       "      <th>1174</th>\n",
       "      <td>31.965402</td>\n",
       "      <td>2</td>\n",
       "      <td>2</td>\n",
       "      <td>3</td>\n",
       "      <td>1</td>\n",
       "      <td>0</td>\n",
       "      <td>Overweight_Level_II</td>\n",
       "      <td>1</td>\n",
       "      <td>1</td>\n",
       "      <td>1</td>\n",
       "      <td>0</td>\n",
       "      <td>0</td>\n",
       "      <td>0</td>\n",
       "      <td>0</td>\n",
       "      <td>0</td>\n",
       "      <td>0</td>\n",
       "      <td>1</td>\n",
       "      <td>1</td>\n",
       "    </tr>\n",
       "    <tr>\n",
       "      <th>1948</th>\n",
       "      <td>20.811580</td>\n",
       "      <td>3</td>\n",
       "      <td>3</td>\n",
       "      <td>2</td>\n",
       "      <td>1</td>\n",
       "      <td>1</td>\n",
       "      <td>Obesity_Type_III</td>\n",
       "      <td>0</td>\n",
       "      <td>1</td>\n",
       "      <td>1</td>\n",
       "      <td>0</td>\n",
       "      <td>0</td>\n",
       "      <td>0</td>\n",
       "      <td>0</td>\n",
       "      <td>1</td>\n",
       "      <td>0</td>\n",
       "      <td>1</td>\n",
       "      <td>1</td>\n",
       "    </tr>\n",
       "    <tr>\n",
       "      <th>869</th>\n",
       "      <td>27.000000</td>\n",
       "      <td>2</td>\n",
       "      <td>2</td>\n",
       "      <td>1</td>\n",
       "      <td>1</td>\n",
       "      <td>0</td>\n",
       "      <td>Overweight_Level_I</td>\n",
       "      <td>0</td>\n",
       "      <td>0</td>\n",
       "      <td>1</td>\n",
       "      <td>0</td>\n",
       "      <td>0</td>\n",
       "      <td>0</td>\n",
       "      <td>0</td>\n",
       "      <td>1</td>\n",
       "      <td>0</td>\n",
       "      <td>1</td>\n",
       "      <td>1</td>\n",
       "    </tr>\n",
       "    <tr>\n",
       "      <th>1056</th>\n",
       "      <td>24.911994</td>\n",
       "      <td>1</td>\n",
       "      <td>2</td>\n",
       "      <td>2</td>\n",
       "      <td>0</td>\n",
       "      <td>1</td>\n",
       "      <td>Overweight_Level_II</td>\n",
       "      <td>1</td>\n",
       "      <td>1</td>\n",
       "      <td>1</td>\n",
       "      <td>0</td>\n",
       "      <td>0</td>\n",
       "      <td>0</td>\n",
       "      <td>0</td>\n",
       "      <td>1</td>\n",
       "      <td>0</td>\n",
       "      <td>1</td>\n",
       "      <td>1</td>\n",
       "    </tr>\n",
       "  </tbody>\n",
       "</table>\n",
       "</div>"
      ],
      "text/plain": [
       "            Age  FCVC  NCP  CH2O  FAF  TUE           NObeyesdad  Gender_Male  \\\n",
       "49    21.000000     2    3     2    0    0        Normal_Weight            0   \n",
       "504   26.000000     3    3     2    0    0     Obesity_Type_III            0   \n",
       "1160  21.997335     2    3     2    1    2  Overweight_Level_II            1   \n",
       "1893  22.980221     3    3     2    1    1     Obesity_Type_III            0   \n",
       "1752  27.266287     3    3     3    1    1      Obesity_Type_II            1   \n",
       "1518  30.421596     2    3     2    1    0      Obesity_Type_II            1   \n",
       "1174  31.965402     2    2     3    1    0  Overweight_Level_II            1   \n",
       "1948  20.811580     3    3     2    1    1     Obesity_Type_III            0   \n",
       "869   27.000000     2    2     1    1    0   Overweight_Level_I            0   \n",
       "1056  24.911994     1    2     2    0    1  Overweight_Level_II            1   \n",
       "\n",
       "      FHO_yes  FAVC_yes  SMOKE_yes  SCC_yes  MTRANS_Bike  MTRANS_Motorbike  \\\n",
       "49          0         1          0        0            0                 0   \n",
       "504         1         1          0        0            0                 0   \n",
       "1160        1         1          0        0            0                 0   \n",
       "1893        1         1          0        0            0                 0   \n",
       "1752        1         1          0        0            0                 0   \n",
       "1518        1         1          0        0            0                 0   \n",
       "1174        1         1          0        0            0                 0   \n",
       "1948        1         1          0        0            0                 0   \n",
       "869         0         1          0        0            0                 0   \n",
       "1056        1         1          0        0            0                 0   \n",
       "\n",
       "      MTRANS_Public_Transportation  MTRANS_Walking  CALC_scale  CAEC_scale  \n",
       "49                               1               0           1           1  \n",
       "504                              1               0           1           1  \n",
       "1160                             1               0           0           0  \n",
       "1893                             1               0           1           1  \n",
       "1752                             1               0           1           1  \n",
       "1518                             1               0           1           1  \n",
       "1174                             0               0           1           1  \n",
       "1948                             1               0           1           1  \n",
       "869                              1               0           1           1  \n",
       "1056                             1               0           1           1  "
      ]
     },
     "execution_count": 17,
     "metadata": {},
     "output_type": "execute_result"
    }
   ],
   "source": [
    "df.sample(10)"
   ]
  },
  {
   "cell_type": "markdown",
   "id": "3f600b10",
   "metadata": {},
   "source": [
    "## Data Mining Methods Used"
   ]
  },
  {
   "cell_type": "markdown",
   "id": "d55b816e",
   "metadata": {},
   "source": [
    "In this project I implemented the following data mining methods:\n",
    "- Decision tree\n",
    "- K-Nearest Neighbors (KNN)\n",
    "- Association Rules\n",
    "- Clustering\n",
    "- Neural Network (Multi-layer percepton)"
   ]
  },
  {
   "cell_type": "markdown",
   "id": "50e806bb",
   "metadata": {},
   "source": [
    "## Decision Tree"
   ]
  },
  {
   "cell_type": "markdown",
   "id": "385c1811",
   "metadata": {},
   "source": [
    "I chose this method because in this dataset there are a lot of categorical attributes, and as mentioned above, this method works well with this type of data. In addition, it is nice to have a visual representation of the results."
   ]
  },
  {
   "cell_type": "markdown",
   "id": "bf94e478",
   "metadata": {},
   "source": [
    "### The process of this method"
   ]
  },
  {
   "cell_type": "markdown",
   "id": "4d94fbdd",
   "metadata": {},
   "source": [
    "After splitting the data into training and validation data, I will create an instance of the DecisionTreeClassifier from scikit-learn. Then I will tweak the parameters (such as max_leaf_nodes, min_samples_leaf, and min_samples_split) that prevent the tree from being very large and cause overfitting. I will pick the parameter values that yield the best result for the final tree model."
   ]
  },
  {
   "cell_type": "markdown",
   "id": "1d4b634e",
   "metadata": {},
   "source": [
    "####  Splitting the data to training and testing sets"
   ]
  },
  {
   "cell_type": "markdown",
   "id": "91f6c890",
   "metadata": {},
   "source": [
    "Splitting the data into X, y - without target column, the target column"
   ]
  },
  {
   "cell_type": "code",
   "execution_count": 18,
   "id": "0694de20",
   "metadata": {},
   "outputs": [
    {
     "name": "stdout",
     "output_type": "stream",
     "text": [
      "shape of df: (2086, 18)\n",
      "shapes of X and y (2086, 17) (2086,)\n"
     ]
    }
   ],
   "source": [
    " print('shape of df:', df.shape)\n",
    "columns_lst = [c for c in df.columns if c not in ['NObeyesdad']]\n",
    "X = df.loc[:, columns_lst]\n",
    "y = df.loc[:,'NObeyesdad']\n",
    "print('shapes of X and y', X.shape, y.shape)"
   ]
  },
  {
   "cell_type": "markdown",
   "id": "dce99d2e",
   "metadata": {},
   "source": [
    "Split the data into training and validation data"
   ]
  },
  {
   "cell_type": "code",
   "execution_count": 19,
   "id": "05006ee6",
   "metadata": {},
   "outputs": [
    {
     "data": {
      "text/plain": [
       "((1460, 17), (626, 17), (1460,), (626,))"
      ]
     },
     "execution_count": 19,
     "metadata": {},
     "output_type": "execute_result"
    }
   ],
   "source": [
    "X_train, X_valid, y_train, y_valid = train_test_split(X, y, test_size=0.3, random_state=60)\n",
    "X_train.shape, X_valid.shape, y_train.shape, y_valid.shape"
   ]
  },
  {
   "cell_type": "markdown",
   "id": "486d3f58",
   "metadata": {},
   "source": [
    "#### Creating and tweaking the decision tree model"
   ]
  },
  {
   "cell_type": "markdown",
   "id": "db7ed1a6",
   "metadata": {},
   "source": [
    "After a lot of trial and error and tweaking of the parameters I got this tree:"
   ]
  },
  {
   "cell_type": "code",
   "execution_count": 20,
   "id": "f79a8bee",
   "metadata": {},
   "outputs": [
    {
     "data": {
      "text/plain": [
       "DecisionTreeClassifier(max_leaf_nodes=12, min_samples_leaf=8,\n",
       "                       min_samples_split=8)"
      ]
     },
     "execution_count": 20,
     "metadata": {},
     "output_type": "execute_result"
    }
   ],
   "source": [
    "model_tree = tree.DecisionTreeClassifier(max_leaf_nodes=12,\n",
    "                                         min_samples_leaf=8, \n",
    "                                         min_samples_split=8)\n",
    "model_tree.fit(X_train, y_train)"
   ]
  },
  {
   "cell_type": "code",
   "execution_count": 21,
   "id": "bd38a841",
   "metadata": {},
   "outputs": [
    {
     "data": {
      "image/png": "[encoded data removed]",
      "text/plain": [
       "<Figure size 1440x720 with 1 Axes>"
      ]
     },
     "metadata": {
      "needs_background": "light"
     },
     "output_type": "display_data"
    }
   ],
   "source": [
    "# creates the figure\n",
    "plt.figure(figsize=(20,10))\n",
    "\n",
    "# creates the tree plot\n",
    "plot_tree(model_tree,\n",
    "           feature_names = columns_lst, #Feature names\n",
    "           class_names = ['Insufficient Weight', 'Normal Weight', 'Overweight Level I', 'Overweight Level II', 'Obesity Type I', 'Obesity Type II', 'Obesity Type III'], #Class names\n",
    "           rounded = True,\n",
    "           filled = True)\n",
    "\n",
    "plt.show()\n"
   ]
  },
  {
   "cell_type": "markdown",
   "id": "4084e473",
   "metadata": {},
   "source": [
    "### Evaluating the model"
   ]
  },
  {
   "cell_type": "code",
   "execution_count": 22,
   "id": "ea93e056",
   "metadata": {},
   "outputs": [
    {
     "name": "stdout",
     "output_type": "stream",
     "text": [
      "                     precision    recall  f1-score   support\n",
      "\n",
      "Insufficient_Weight       0.50      0.94      0.65        78\n",
      "      Normal_Weight       0.18      0.07      0.10        69\n",
      "     Obesity_Type_I       0.48      0.49      0.48       107\n",
      "    Obesity_Type_II       0.61      0.87      0.71        92\n",
      "   Obesity_Type_III       0.93      0.99      0.96       108\n",
      " Overweight_Level_I       0.36      0.34      0.35        94\n",
      "Overweight_Level_II       0.86      0.08      0.14        78\n",
      "\n",
      "           accuracy                           0.57       626\n",
      "          macro avg       0.56      0.54      0.49       626\n",
      "       weighted avg       0.57      0.57      0.52       626\n",
      "\n"
     ]
    }
   ],
   "source": [
    "y_train_pred = model_tree.predict(X_train)\n",
    "y_valid_pred = model_tree.predict(X_valid)\n",
    "\n",
    "print(classification_report(y_valid, y_valid_pred, zero_division=1))"
   ]
  },
  {
   "cell_type": "markdown",
   "id": "bb208999",
   "metadata": {},
   "source": [
    "The level of accuracy is 57%."
   ]
  },
  {
   "cell_type": "markdown",
   "id": "a778e396",
   "metadata": {},
   "source": [
    "## K-Nearest-Neighbors (KNN)"
   ]
  },
  {
   "cell_type": "markdown",
   "id": "1b93a639",
   "metadata": {},
   "source": [
    "I chose this as my second method because all except one of the attibutes are numeric, binary, or ordinal categorical, which allows this algorithm to work well. "
   ]
  },
  {
   "cell_type": "markdown",
   "id": "02a81f14",
   "metadata": {},
   "source": [
    "### The process of this method"
   ]
  },
  {
   "cell_type": "markdown",
   "id": "baabf08f",
   "metadata": {},
   "source": [
    "After splitting the data into training and validation data, I will create an instance of the KNeighborsClassifier from scikit-learn. Then I will tweak the parameter value k (the number of nearest neighbors). I will pick the value of k that yields the best result for the final KNN model."
   ]
  },
  {
   "cell_type": "markdown",
   "id": "7ad67390",
   "metadata": {},
   "source": [
    "####  Final data preperations"
   ]
  },
  {
   "cell_type": "markdown",
   "id": "6b5c3714",
   "metadata": {},
   "source": [
    "Splitting the data into X, y - without target column, the target column"
   ]
  },
  {
   "cell_type": "code",
   "execution_count": 23,
   "id": "46f82874",
   "metadata": {},
   "outputs": [],
   "source": [
    "# copy X and Y from the decision tree\n",
    "X_knn = X.copy()\n",
    "y_knn = y.copy()"
   ]
  },
  {
   "cell_type": "markdown",
   "id": "7fa5956e",
   "metadata": {},
   "source": [
    "remove the columns MTRANS because can't be encoded to work well with KNN"
   ]
  },
  {
   "cell_type": "code",
   "execution_count": 24,
   "id": "25948bc4",
   "metadata": {},
   "outputs": [],
   "source": [
    "cols = [c for c in df.columns if 'MTRANS' in c]\n",
    "X_knn = X_knn.drop(cols, axis=1)"
   ]
  },
  {
   "cell_type": "markdown",
   "id": "c7bed00c",
   "metadata": {},
   "source": [
    "####  Scaling - necessary for KNN"
   ]
  },
  {
   "cell_type": "code",
   "execution_count": 25,
   "id": "ac49eeff",
   "metadata": {},
   "outputs": [],
   "source": [
    "min_max_scaler = MinMaxScaler()\n",
    "\n",
    "X_knn = min_max_scaler.fit_transform(X_knn)"
   ]
  },
  {
   "cell_type": "markdown",
   "id": "4736273a",
   "metadata": {},
   "source": [
    "###  Splitting the data to training and testing sets"
   ]
  },
  {
   "cell_type": "code",
   "execution_count": 26,
   "id": "7dfd2886",
   "metadata": {},
   "outputs": [
    {
     "data": {
      "text/plain": [
       "((1460, 13), (626, 13), (1460,), (626,))"
      ]
     },
     "execution_count": 26,
     "metadata": {},
     "output_type": "execute_result"
    }
   ],
   "source": [
    "X_knn_train, X_knn_valid, y_knn_train, y_knn_valid = train_test_split(X_knn, y_knn, test_size=0.3, random_state=42)\n",
    "X_knn_train.shape, X_knn_valid.shape, y_knn_train.shape, y_knn_valid.shape"
   ]
  },
  {
   "cell_type": "markdown",
   "id": "c8da9fea",
   "metadata": {},
   "source": [
    "### Creating the KNN model"
   ]
  },
  {
   "cell_type": "code",
   "execution_count": 27,
   "id": "c929aabf",
   "metadata": {},
   "outputs": [
    {
     "data": {
      "text/plain": [
       "KNeighborsClassifier(n_neighbors=3)"
      ]
     },
     "execution_count": 27,
     "metadata": {},
     "output_type": "execute_result"
    }
   ],
   "source": [
    "knn = KNeighborsClassifier(n_neighbors = 3)\n",
    "knn.fit(X_knn_train, y_knn_train)"
   ]
  },
  {
   "cell_type": "markdown",
   "id": "78ecadfd",
   "metadata": {},
   "source": [
    "### Evaluating the model"
   ]
  },
  {
   "cell_type": "code",
   "execution_count": 28,
   "id": "8a0b6a82",
   "metadata": {},
   "outputs": [
    {
     "name": "stdout",
     "output_type": "stream",
     "text": [
      "                     precision    recall  f1-score   support\n",
      "\n",
      "Insufficient_Weight       0.57      0.71      0.63        85\n",
      "      Normal_Weight       0.45      0.41      0.43        93\n",
      "     Obesity_Type_I       0.64      0.61      0.63       106\n",
      "    Obesity_Type_II       0.81      0.85      0.83       100\n",
      "   Obesity_Type_III       0.86      0.98      0.91        87\n",
      " Overweight_Level_I       0.70      0.60      0.65        83\n",
      "Overweight_Level_II       0.59      0.50      0.54        72\n",
      "\n",
      "           accuracy                           0.67       626\n",
      "          macro avg       0.66      0.67      0.66       626\n",
      "       weighted avg       0.66      0.67      0.66       626\n",
      "\n"
     ]
    }
   ],
   "source": [
    "y_knn_train_pred = knn.predict(X_knn_train)\n",
    "y_knn_valid_pred = knn.predict(X_knn_valid)\n",
    "\n",
    "print(classification_report(y_knn_valid, y_knn_valid_pred))"
   ]
  },
  {
   "cell_type": "markdown",
   "id": "ce6fa6c3",
   "metadata": {},
   "source": [
    "The level of accuracy is 67%."
   ]
  },
  {
   "cell_type": "markdown",
   "id": "13d6a3c8",
   "metadata": {},
   "source": [
    "# Conclusion\n",
    "\n",
    "- The decision tree yielded 57% accuracy and the KNN model yielded 67% accuracy - the KNN model yielded better results.\n",
    "- The results from the decision tree weren't very high, next time I could choose the parameters in a more systematic way instead of manually (with a function that iterates over possible values and chooses the best ones).\n",
    "- Initially I didn't think to use k-fold validation because the dataset was quite large, however next time I could try to use k-fold cross validation anyways to improve results.\n",
    "- Methods using Pandas are often easier than methods in Scikit-learn, but are less efficient (according to several sources online)"
   ]
  }
 ],
 "metadata": {
  "kernelspec": {
   "display_name": "Python 3 (ipykernel)",
   "language": "python",
   "name": "python3"
  },
  "language_info": {
   "codemirror_mode": {
    "name": "ipython",
    "version": 3
   },
   "file_extension": ".py",
   "mimetype": "text/x-python",
   "name": "python",
   "nbconvert_exporter": "python",
   "pygments_lexer": "ipython3",
   "version": "3.9.10"
  }
 },
 "nbformat": 4,
 "nbformat_minor": 5
}
